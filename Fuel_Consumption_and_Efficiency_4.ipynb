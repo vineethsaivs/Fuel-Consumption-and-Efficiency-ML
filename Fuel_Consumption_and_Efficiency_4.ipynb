{
  "nbformat": 4,
  "nbformat_minor": 0,
  "metadata": {
    "colab": {
      "name": "Fuel-Consumption-and-Efficiency-4.ipynb",
      "provenance": [],
      "collapsed_sections": [],
      "authorship_tag": "ABX9TyPwvzRvN9t7wYTZHKbcwaGB",
      "include_colab_link": true
    },
    "kernelspec": {
      "name": "python3",
      "display_name": "Python 3"
    },
    "language_info": {
      "name": "python"
    }
  },
  "cells": [
    {
      "cell_type": "markdown",
      "metadata": {
        "id": "view-in-github",
        "colab_type": "text"
      },
      "source": [
        "<a href=\"https://colab.research.google.com/github/vineethsaivs/Fuel-Consumption-and-Efficiency-ML/blob/main/Fuel_Consumption_and_Efficiency_4.ipynb\" target=\"_parent\"><img src=\"https://colab.research.google.com/assets/colab-badge.svg\" alt=\"Open In Colab\"/></a>"
      ]
    },
    {
      "cell_type": "markdown",
      "metadata": {
        "id": "12EFZ9g7WY1O"
      },
      "source": [
        "##Deploying the Trained Model"
      ]
    },
    {
      "cell_type": "markdown",
      "metadata": {
        "id": "so8vLMIwWfJ5"
      },
      "source": [
        "1. Start a Flask Project.\n",
        "2. Set up a dedicated environment with dependencies installed using pip.\n",
        "\n",
        "Packages to install:\n",
        "\n",
        "      pandas\n",
        "      numpy\n",
        "      sklearn\n",
        "      flask\n",
        "      matplotlib\n",
        "      gunicorn\n",
        "      seaborn\n",
        "3. Create a quick flask application to test a simple endpoint.\n",
        "4. Define a function to that accepts data from the POST request and return the predictions using a helper module.\n",
        "5. Test the endpoint using requests package"
      ]
    },
    {
      "cell_type": "code",
      "metadata": {
        "id": "du5cy5-7WpIm"
      },
      "source": [
        ""
      ],
      "execution_count": null,
      "outputs": []
    }
  ]
}